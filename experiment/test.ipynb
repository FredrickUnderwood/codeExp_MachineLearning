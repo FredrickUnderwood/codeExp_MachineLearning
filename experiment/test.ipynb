{
 "cells": [
  {
   "cell_type": "code",
   "execution_count": 30,
   "metadata": {},
   "outputs": [
    {
     "name": "stdout",
     "output_type": "stream",
     "text": [
      "[[0.   0.   0.  ]\n",
      " [0.01 0.09 0.01]]\n",
      "[[ 9.5]\n",
      " [14. ]]\n",
      "[[0.99992515]\n",
      " [0.99999917]]\n",
      "[[0.04931133 0.05449744 0.89619123]\n",
      " [0.09003057 0.24472847 0.66524096]]\n"
     ]
    }
   ],
   "source": [
    "import numpy as np\n",
    "import pandas as pd\n",
    "a = np.array([[0.1, 0.2, 3],\n",
    "              [1, 2, 3]])\n",
    "\n",
    "b = np.array([[1],\n",
    "              [2],\n",
    "              [3]])\n",
    "c = np.array([[0.1, 0.2, 3],\n",
    "              [1.1, 2.3, 3.1]])\n",
    "print((a - c) ** 2)\n",
    "print(np.dot(a, b))\n",
    "def sigmoid(x):\n",
    "    return 1 / (1 + np.exp(-x))\n",
    "print(sigmoid(np.dot(a, b)))\n",
    "\n",
    "def softmax(y_hat: np.ndarray):\n",
    "    exp_sum = 0\n",
    "    exp_list = []\n",
    "    softmax_list = np.ones_like(y_hat)\n",
    "    example_num = y_hat.shape[0]\n",
    "    label_num = y_hat.shape[1]\n",
    "    for i in range(example_num):\n",
    "        for j in range(label_num):\n",
    "            exp_sum += np.exp(y_hat[i, j])\n",
    "            exp_list.append(np.exp(y_hat[i, j]))\n",
    "        for j in range(label_num):\n",
    "            softmax_list[i, j] = (exp_list[j] / exp_sum)\n",
    "        exp_sum = 0\n",
    "        exp_list = []\n",
    "    return softmax_list\n",
    "print(softmax(a))"
   ]
  },
  {
   "cell_type": "code",
   "execution_count": 37,
   "metadata": {},
   "outputs": [],
   "source": [
    "import torch\n",
    "def softmax(y_hat: np.ndarray):\n",
    "    exp_sum = 0\n",
    "    exp_list = []\n",
    "    softmax_list = np.ones_like(y_hat)\n",
    "    example_num = y_hat.shape[0]\n",
    "    label_num = y_hat.shape[1]\n",
    "    for i in range(example_num):\n",
    "        for j in range(label_num):\n",
    "            exp_sum += np.exp(y_hat[i, j])\n",
    "            exp_list.append(np.exp(y_hat[i, j]))\n",
    "        for j in range(label_num):\n",
    "            softmax_list[i, j] = (exp_list[j] / exp_sum)\n",
    "        exp_sum = 0\n",
    "        exp_list = []\n",
    "    return softmax_list\n"
   ]
  }
 ],
 "metadata": {
  "kernelspec": {
   "display_name": "Python 3.11.5 ('DeepLearning')",
   "language": "python",
   "name": "python3"
  },
  "language_info": {
   "codemirror_mode": {
    "name": "ipython",
    "version": 3
   },
   "file_extension": ".py",
   "mimetype": "text/x-python",
   "name": "python",
   "nbconvert_exporter": "python",
   "pygments_lexer": "ipython3",
   "version": "3.11.5"
  },
  "orig_nbformat": 4,
  "vscode": {
   "interpreter": {
    "hash": "c4282e5d574bf3b8f715e83535c0c211924f7447b47ecaec7e5158fd15c3ee76"
   }
  }
 },
 "nbformat": 4,
 "nbformat_minor": 2
}
